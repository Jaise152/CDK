{
  "nbformat": 4,
  "nbformat_minor": 0,
  "metadata": {
    "colab": {
      "name": "Assignment_MNIST_Fashion.ipynb",
      "provenance": [],
      "authorship_tag": "ABX9TyNxPORppjBBkBTI6C2pFCD4",
      "include_colab_link": true
    },
    "kernelspec": {
      "name": "python3",
      "display_name": "Python 3"
    }
  },
  "cells": [
    {
      "cell_type": "markdown",
      "metadata": {
        "id": "view-in-github",
        "colab_type": "text"
      },
      "source": [
        "<a href=\"https://colab.research.google.com/github/Jaise152/CDK/blob/master/Deep_Learning_MNIST_Fashion.ipynb\" target=\"_parent\"><img src=\"https://colab.research.google.com/assets/colab-badge.svg\" alt=\"Open In Colab\"/></a>"
      ]
    },
    {
      "cell_type": "code",
      "metadata": {
        "id": "r9Y-MdpZneka"
      },
      "source": [
        "# Import the necessary libraries\n",
        "\n",
        "import tensorflow as tf\n",
        "from tensorflow import keras\n",
        "import numpy as np\n",
        "import matplotlib.pyplot as plt\n",
        "from keras.utils import np_utils \n",
        "import random\n",
        "import pandas as pd"
      ],
      "execution_count": null,
      "outputs": []
    },
    {
      "cell_type": "code",
      "metadata": {
        "id": "9PYUdOUpnhOv",
        "colab": {
          "base_uri": "https://localhost:8080/",
          "height": 153
        },
        "outputId": "9f138951-2a81-4df5-965e-78584bbff687"
      },
      "source": [
        "# Import the data from keras.dataset\n",
        "\n",
        "(train_images, train_labels), (test_images, test_labels) = keras.datasets.fashion_mnist.load_data()"
      ],
      "execution_count": null,
      "outputs": [
        {
          "output_type": "stream",
          "text": [
            "Downloading data from https://storage.googleapis.com/tensorflow/tf-keras-datasets/train-labels-idx1-ubyte.gz\n",
            "32768/29515 [=================================] - 0s 0us/step\n",
            "Downloading data from https://storage.googleapis.com/tensorflow/tf-keras-datasets/train-images-idx3-ubyte.gz\n",
            "26427392/26421880 [==============================] - 1s 0us/step\n",
            "Downloading data from https://storage.googleapis.com/tensorflow/tf-keras-datasets/t10k-labels-idx1-ubyte.gz\n",
            "8192/5148 [===============================================] - 0s 0us/step\n",
            "Downloading data from https://storage.googleapis.com/tensorflow/tf-keras-datasets/t10k-images-idx3-ubyte.gz\n",
            "4423680/4422102 [==============================] - 0s 0us/step\n"
          ],
          "name": "stdout"
        }
      ]
    },
    {
      "cell_type": "code",
      "metadata": {
        "id": "J40S6jwY7A7r"
      },
      "source": [
        "ima = keras.datasets.fashion_mnist.load_data()"
      ],
      "execution_count": null,
      "outputs": []
    },
    {
      "cell_type": "code",
      "metadata": {
        "id": "X4VnKmmO7GRI"
      },
      "source": [
        "class_names = ['T-shirt/top', 'Trouser', 'Pullover', 'Dress', 'Coat',\n",
        "               'Sandal', 'Shirt', 'Sneaker', 'Bag', 'Ankle boot']"
      ],
      "execution_count": null,
      "outputs": []
    },
    {
      "cell_type": "code",
      "metadata": {
        "id": "cqGH8e8-AflZ",
        "colab": {
          "base_uri": "https://localhost:8080/",
          "height": 850
        },
        "outputId": "abbe6cc7-10c3-4c1d-c30c-94d6b9594f2e"
      },
      "source": [
        "train = np.array(train_images)\n",
        "train"
      ],
      "execution_count": null,
      "outputs": [
        {
          "output_type": "execute_result",
          "data": {
            "text/plain": [
              "array([[[0, 0, 0, ..., 0, 0, 0],\n",
              "        [0, 0, 0, ..., 0, 0, 0],\n",
              "        [0, 0, 0, ..., 0, 0, 0],\n",
              "        ...,\n",
              "        [0, 0, 0, ..., 0, 0, 0],\n",
              "        [0, 0, 0, ..., 0, 0, 0],\n",
              "        [0, 0, 0, ..., 0, 0, 0]],\n",
              "\n",
              "       [[0, 0, 0, ..., 0, 0, 0],\n",
              "        [0, 0, 0, ..., 0, 0, 0],\n",
              "        [0, 0, 0, ..., 0, 0, 0],\n",
              "        ...,\n",
              "        [0, 0, 0, ..., 0, 0, 0],\n",
              "        [0, 0, 0, ..., 0, 0, 0],\n",
              "        [0, 0, 0, ..., 0, 0, 0]],\n",
              "\n",
              "       [[0, 0, 0, ..., 0, 0, 0],\n",
              "        [0, 0, 0, ..., 0, 0, 0],\n",
              "        [0, 0, 0, ..., 0, 0, 0],\n",
              "        ...,\n",
              "        [0, 0, 0, ..., 0, 0, 0],\n",
              "        [0, 0, 0, ..., 0, 0, 0],\n",
              "        [0, 0, 0, ..., 0, 0, 0]],\n",
              "\n",
              "       ...,\n",
              "\n",
              "       [[0, 0, 0, ..., 0, 0, 0],\n",
              "        [0, 0, 0, ..., 0, 0, 0],\n",
              "        [0, 0, 0, ..., 0, 0, 0],\n",
              "        ...,\n",
              "        [0, 0, 0, ..., 0, 0, 0],\n",
              "        [0, 0, 0, ..., 0, 0, 0],\n",
              "        [0, 0, 0, ..., 0, 0, 0]],\n",
              "\n",
              "       [[0, 0, 0, ..., 0, 0, 0],\n",
              "        [0, 0, 0, ..., 0, 0, 0],\n",
              "        [0, 0, 0, ..., 0, 0, 0],\n",
              "        ...,\n",
              "        [0, 0, 0, ..., 0, 0, 0],\n",
              "        [0, 0, 0, ..., 0, 0, 0],\n",
              "        [0, 0, 0, ..., 0, 0, 0]],\n",
              "\n",
              "       [[0, 0, 0, ..., 0, 0, 0],\n",
              "        [0, 0, 0, ..., 0, 0, 0],\n",
              "        [0, 0, 0, ..., 0, 0, 0],\n",
              "        ...,\n",
              "        [0, 0, 0, ..., 0, 0, 0],\n",
              "        [0, 0, 0, ..., 0, 0, 0],\n",
              "        [0, 0, 0, ..., 0, 0, 0]]], dtype=uint8)"
            ]
          },
          "metadata": {
            "tags": []
          },
          "execution_count": 7
        }
      ]
    },
    {
      "cell_type": "code",
      "metadata": {
        "id": "pdB2PYSlp68R",
        "colab": {
          "base_uri": "https://localhost:8080/",
          "height": 163
        },
        "outputId": "5420e3af-e236-42a3-9a6e-a46fbb0b1193"
      },
      "source": [
        "train_images.shape"
      ],
      "execution_count": null,
      "outputs": [
        {
          "output_type": "error",
          "ename": "NameError",
          "evalue": "ignored",
          "traceback": [
            "\u001b[0;31m---------------------------------------------------------------------------\u001b[0m",
            "\u001b[0;31mNameError\u001b[0m                                 Traceback (most recent call last)",
            "\u001b[0;32m<ipython-input-1-764c035ef32c>\u001b[0m in \u001b[0;36m<module>\u001b[0;34m()\u001b[0m\n\u001b[0;32m----> 1\u001b[0;31m \u001b[0mtrain_images\u001b[0m\u001b[0;34m.\u001b[0m\u001b[0mshape\u001b[0m\u001b[0;34m\u001b[0m\u001b[0;34m\u001b[0m\u001b[0m\n\u001b[0m",
            "\u001b[0;31mNameError\u001b[0m: name 'train_images' is not defined"
          ]
        }
      ]
    },
    {
      "cell_type": "code",
      "metadata": {
        "id": "-eRjgqVK_gT5",
        "colab": {
          "base_uri": "https://localhost:8080/",
          "height": 34
        },
        "outputId": "7fda8dd6-4d40-444e-ca63-7eb2559cfa50"
      },
      "source": [
        "len(train_labels)"
      ],
      "execution_count": null,
      "outputs": [
        {
          "output_type": "execute_result",
          "data": {
            "text/plain": [
              "60000"
            ]
          },
          "metadata": {
            "tags": []
          },
          "execution_count": 6
        }
      ]
    },
    {
      "cell_type": "code",
      "metadata": {
        "id": "dMs6Mwfm_mQR",
        "colab": {
          "base_uri": "https://localhost:8080/",
          "height": 34
        },
        "outputId": "0c4807fc-2070-4328-8bec-c5d5f95ec188"
      },
      "source": [
        "train_labels"
      ],
      "execution_count": null,
      "outputs": [
        {
          "output_type": "execute_result",
          "data": {
            "text/plain": [
              "array([9, 0, 0, ..., 3, 0, 5], dtype=uint8)"
            ]
          },
          "metadata": {
            "tags": []
          },
          "execution_count": 7
        }
      ]
    },
    {
      "cell_type": "code",
      "metadata": {
        "id": "hF7NYhsu_q-U",
        "colab": {
          "base_uri": "https://localhost:8080/",
          "height": 34
        },
        "outputId": "4ab0a695-d82e-4d64-c1b3-a7a4a2373d6f"
      },
      "source": [
        "test_images.shape"
      ],
      "execution_count": null,
      "outputs": [
        {
          "output_type": "execute_result",
          "data": {
            "text/plain": [
              "(10000, 28, 28)"
            ]
          },
          "metadata": {
            "tags": []
          },
          "execution_count": 8
        }
      ]
    },
    {
      "cell_type": "code",
      "metadata": {
        "id": "VWUA5cek_tZX",
        "colab": {
          "base_uri": "https://localhost:8080/",
          "height": 34
        },
        "outputId": "f1013ebe-01e4-4a07-9f45-0dc750632b14"
      },
      "source": [
        "len(test_labels)"
      ],
      "execution_count": null,
      "outputs": [
        {
          "output_type": "execute_result",
          "data": {
            "text/plain": [
              "10000"
            ]
          },
          "metadata": {
            "tags": []
          },
          "execution_count": 9
        }
      ]
    },
    {
      "cell_type": "code",
      "metadata": {
        "id": "Dfar68Mf_w91",
        "colab": {
          "base_uri": "https://localhost:8080/",
          "height": 265
        },
        "outputId": "bc0a5811-790c-4e02-b253-cd0f0b41a498"
      },
      "source": [
        "plt.figure()\n",
        "plt.imshow(train_images[0])\n",
        "plt.colorbar()\n",
        "plt.grid(False)\n",
        "plt.show()"
      ],
      "execution_count": null,
      "outputs": [
        {
          "output_type": "display_data",
          "data": {
            "image/png": "[encoded data removed]",
            "text/plain": [
              "<Figure size 432x288 with 2 Axes>"
            ]
          },
          "metadata": {
            "tags": [],
            "needs_background": "light"
          }
        }
      ]
    },
    {
      "cell_type": "code",
      "metadata": {
        "id": "urfO9qreok9E",
        "colab": {
          "base_uri": "https://localhost:8080/",
          "height": 589
        },
        "outputId": "51ae9ca4-4cea-4ade-a5fe-f0527a85e6ce"
      },
      "source": [
        "plt.figure(figsize=(10,10))\n",
        "for i in range(25):\n",
        "    plt.subplot(5,5,i+1)\n",
        "    plt.xticks([])\n",
        "    plt.yticks([])\n",
        "    plt.grid(False)\n",
        "    plt.imshow(train_images[i], cmap=plt.cm.binary)\n",
        "    plt.xlabel(class_names[train_labels[i]])\n",
        "plt.show()"
      ],
      "execution_count": null,
      "outputs": [
        {
          "output_type": "display_data",
          "data": {
            "image/png": "[encoded data removed]",
            "text/plain": [
              "<Figure size 720x720 with 25 Axes>"
            ]
          },
          "metadata": {
            "tags": []
          }
        }
      ]
    },
    {
      "cell_type": "code",
      "metadata": {
        "id": "Lb97O6vqorcC"
      },
      "source": [
        "# We normalise the loaded images\n",
        "# i.e we convert the pixel values which lie between 0-255 into values between 0-1\n",
        "\n",
        "train_images = train_images/255.0\n",
        "test_images = test_images/255.0"
      ],
      "execution_count": null,
      "outputs": []
    },
    {
      "cell_type": "code",
      "metadata": {
        "id": "i6474UXxo6Pv"
      },
      "source": [
        "# We are building a sequential model\n",
        "\n",
        "model_CrossEntropy = tf.keras.models.Sequential()\n",
        "\n",
        "# Add the input layer\n",
        "\n",
        "model_CrossEntropy.add(tf.keras.layers.Flatten(input_shape=(28,28)))\n",
        "\n",
        "# Add a hidden layer\n",
        "\n",
        "model_CrossEntropy.add(tf.keras.layers.Dense(units=128,kernel_regularizer=keras.regularizers.l2(.0001), activation=\"relu\"))\n",
        "model_CrossEntropy.add(tf.keras.layers.Dropout(0.2))\n",
        "#model_CrossEntropy.add(tf.keras.layers.Dense(units=64,kernel_regularizer=keras.regularizers.l2(.001), activation=\"sigmoid\"))\n",
        "\n",
        "# Add an output layer\n",
        "\n",
        "model_CrossEntropy.add(tf.keras.layers.Dense(units=10,kernel_regularizer=keras.regularizers.l2(.0001), activation = \"softmax\"))\n",
        "\n"
      ],
      "execution_count": null,
      "outputs": []
    },
    {
      "cell_type": "code",
      "metadata": {
        "id": "L4n7gU_OqRWP"
      },
      "source": [
        "# We are building a sequential model\n",
        "\n",
        "model_CrossEntropy = tf.keras.models.Sequential()\n",
        "\n",
        "# Add the input layer\n",
        "\n",
        "model_CrossEntropy.add(tf.keras.layers.Flatten(input_shape=(28,28)))\n",
        "\n",
        "# Add a hidden layer\n",
        "\n",
        "model_CrossEntropy.add(tf.keras.layers.Dense(units=128,kernel_regularizer=keras.regularizers.l2(.0001), activation=\"relu\"))\n",
        "model_CrossEntropy.add(tf.keras.layers.Dropout(0.2))\n",
        "#model_CrossEntropy.add(tf.keras.layers.Dense(units=64,kernel_regularizer=keras.regularizers.l2(.001), activation=\"sigmoid\"))\n",
        "\n",
        "# Add an output layer\n",
        "\n",
        "model_CrossEntropy.add(tf.keras.layers.Dense(units=10,kernel_regularizer=keras.regularizers.l2(.0001), activation = \"softmax\"))\n",
        "\n"
      ],
      "execution_count": null,
      "outputs": []
    },
    {
      "cell_type": "code",
      "metadata": {
        "id": "OgEJ8PdAASuQ"
      },
      "source": [
        "model_CrossEntropy.compile(optimizer='adam',\n",
        "              loss=tf.keras.losses.SparseCategoricalCrossentropy(from_logits=True),\n",
        "              metrics=['accuracy','mean_squared_error'])"
      ],
      "execution_count": null,
      "outputs": []
    },
    {
      "cell_type": "code",
      "metadata": {
        "id": "KLwjl5LDpNLU",
        "colab": {
          "base_uri": "https://localhost:8080/",
          "height": 1000
        },
        "outputId": "6ecc8ac7-d6e3-47fc-a991-0b6f33252b95"
      },
      "source": [
        "# fit the data to the model\n",
        "\n",
        "history = model_CrossEntropy.fit(train_images, train_labels, epochs=50,batch_size= 100,validation_split=0.2)"
      ],
      "execution_count": null,
      "outputs": [
        {
          "output_type": "stream",
          "text": [
            "Epoch 1/50\n",
            "480/480 [==============================] - 2s 4ms/step - loss: 1.6232 - accuracy: 0.8763 - mean_squared_error: 27.7651 - val_loss: 1.6271 - val_accuracy: 0.8702 - val_mean_squared_error: 27.4093\n",
            "Epoch 2/50\n",
            "480/480 [==============================] - 2s 4ms/step - loss: 1.6218 - accuracy: 0.8791 - mean_squared_error: 27.7651 - val_loss: 1.6254 - val_accuracy: 0.8724 - val_mean_squared_error: 27.4088\n",
            "Epoch 3/50\n",
            "480/480 [==============================] - 2s 3ms/step - loss: 1.6226 - accuracy: 0.8767 - mean_squared_error: 27.7649 - val_loss: 1.6319 - val_accuracy: 0.8668 - val_mean_squared_error: 27.4087\n",
            "Epoch 4/50\n",
            "480/480 [==============================] - 2s 3ms/step - loss: 1.6217 - accuracy: 0.8787 - mean_squared_error: 27.7650 - val_loss: 1.6305 - val_accuracy: 0.8677 - val_mean_squared_error: 27.4090\n",
            "Epoch 5/50\n",
            "480/480 [==============================] - 2s 3ms/step - loss: 1.6202 - accuracy: 0.8796 - mean_squared_error: 27.7651 - val_loss: 1.6274 - val_accuracy: 0.8702 - val_mean_squared_error: 27.4092\n",
            "Epoch 6/50\n",
            "480/480 [==============================] - 2s 3ms/step - loss: 1.6219 - accuracy: 0.8783 - mean_squared_error: 27.7651 - val_loss: 1.6272 - val_accuracy: 0.8727 - val_mean_squared_error: 27.4089\n",
            "Epoch 7/50\n",
            "480/480 [==============================] - 2s 3ms/step - loss: 1.6209 - accuracy: 0.8801 - mean_squared_error: 27.7650 - val_loss: 1.6264 - val_accuracy: 0.8728 - val_mean_squared_error: 27.4092\n",
            "Epoch 8/50\n",
            "480/480 [==============================] - 2s 3ms/step - loss: 1.6212 - accuracy: 0.8799 - mean_squared_error: 27.7651 - val_loss: 1.6224 - val_accuracy: 0.8783 - val_mean_squared_error: 27.4089\n",
            "Epoch 9/50\n",
            "480/480 [==============================] - 2s 3ms/step - loss: 1.6204 - accuracy: 0.8810 - mean_squared_error: 27.7650 - val_loss: 1.6217 - val_accuracy: 0.8773 - val_mean_squared_error: 27.4089\n",
            "Epoch 10/50\n",
            "480/480 [==============================] - 2s 3ms/step - loss: 1.6209 - accuracy: 0.8804 - mean_squared_error: 27.7651 - val_loss: 1.6277 - val_accuracy: 0.8728 - val_mean_squared_error: 27.4087\n",
            "Epoch 11/50\n",
            "480/480 [==============================] - 2s 3ms/step - loss: 1.6220 - accuracy: 0.8788 - mean_squared_error: 27.7650 - val_loss: 1.6232 - val_accuracy: 0.8746 - val_mean_squared_error: 27.4088\n",
            "Epoch 12/50\n",
            "480/480 [==============================] - 2s 3ms/step - loss: 1.6208 - accuracy: 0.8809 - mean_squared_error: 27.7650 - val_loss: 1.6268 - val_accuracy: 0.8751 - val_mean_squared_error: 27.4083\n",
            "Epoch 13/50\n",
            "480/480 [==============================] - 2s 3ms/step - loss: 1.6200 - accuracy: 0.8818 - mean_squared_error: 27.7650 - val_loss: 1.6268 - val_accuracy: 0.8718 - val_mean_squared_error: 27.4095\n",
            "Epoch 14/50\n",
            "480/480 [==============================] - 2s 3ms/step - loss: 1.6209 - accuracy: 0.8809 - mean_squared_error: 27.7651 - val_loss: 1.6275 - val_accuracy: 0.8722 - val_mean_squared_error: 27.4095\n",
            "Epoch 15/50\n",
            "480/480 [==============================] - 2s 3ms/step - loss: 1.6183 - accuracy: 0.8837 - mean_squared_error: 27.7651 - val_loss: 1.6238 - val_accuracy: 0.8752 - val_mean_squared_error: 27.4089\n",
            "Epoch 16/50\n",
            "480/480 [==============================] - 2s 3ms/step - loss: 1.6193 - accuracy: 0.8819 - mean_squared_error: 27.7650 - val_loss: 1.6234 - val_accuracy: 0.8778 - val_mean_squared_error: 27.4088\n",
            "Epoch 17/50\n",
            "480/480 [==============================] - 2s 3ms/step - loss: 1.6189 - accuracy: 0.8831 - mean_squared_error: 27.7652 - val_loss: 1.6223 - val_accuracy: 0.8773 - val_mean_squared_error: 27.4091\n",
            "Epoch 18/50\n",
            "480/480 [==============================] - 2s 4ms/step - loss: 1.6198 - accuracy: 0.8824 - mean_squared_error: 27.7652 - val_loss: 1.6235 - val_accuracy: 0.8756 - val_mean_squared_error: 27.4092\n",
            "Epoch 19/50\n",
            "480/480 [==============================] - 2s 3ms/step - loss: 1.6192 - accuracy: 0.8827 - mean_squared_error: 27.7651 - val_loss: 1.6232 - val_accuracy: 0.8767 - val_mean_squared_error: 27.4086\n",
            "Epoch 20/50\n",
            "480/480 [==============================] - 2s 3ms/step - loss: 1.6186 - accuracy: 0.8845 - mean_squared_error: 27.7651 - val_loss: 1.6204 - val_accuracy: 0.8802 - val_mean_squared_error: 27.4091\n",
            "Epoch 21/50\n",
            "480/480 [==============================] - 2s 4ms/step - loss: 1.6200 - accuracy: 0.8818 - mean_squared_error: 27.7652 - val_loss: 1.6219 - val_accuracy: 0.8777 - val_mean_squared_error: 27.4088\n",
            "Epoch 22/50\n",
            "480/480 [==============================] - 2s 3ms/step - loss: 1.6177 - accuracy: 0.8845 - mean_squared_error: 27.7652 - val_loss: 1.6270 - val_accuracy: 0.8729 - val_mean_squared_error: 27.4088\n",
            "Epoch 23/50\n",
            "480/480 [==============================] - 2s 3ms/step - loss: 1.6195 - accuracy: 0.8834 - mean_squared_error: 27.7652 - val_loss: 1.6212 - val_accuracy: 0.8791 - val_mean_squared_error: 27.4090\n",
            "Epoch 24/50\n",
            "480/480 [==============================] - 2s 3ms/step - loss: 1.6188 - accuracy: 0.8836 - mean_squared_error: 27.7649 - val_loss: 1.6250 - val_accuracy: 0.8757 - val_mean_squared_error: 27.4088\n",
            "Epoch 25/50\n",
            "480/480 [==============================] - 2s 4ms/step - loss: 1.6195 - accuracy: 0.8828 - mean_squared_error: 27.7651 - val_loss: 1.6215 - val_accuracy: 0.8797 - val_mean_squared_error: 27.4091\n",
            "Epoch 26/50\n",
            "480/480 [==============================] - 2s 3ms/step - loss: 1.6180 - accuracy: 0.8854 - mean_squared_error: 27.7651 - val_loss: 1.6214 - val_accuracy: 0.8801 - val_mean_squared_error: 27.4089\n",
            "Epoch 27/50\n",
            "480/480 [==============================] - 2s 4ms/step - loss: 1.6173 - accuracy: 0.8857 - mean_squared_error: 27.7651 - val_loss: 1.6225 - val_accuracy: 0.8785 - val_mean_squared_error: 27.4088\n",
            "Epoch 28/50\n",
            "480/480 [==============================] - 2s 3ms/step - loss: 1.6176 - accuracy: 0.8851 - mean_squared_error: 27.7651 - val_loss: 1.6180 - val_accuracy: 0.8832 - val_mean_squared_error: 27.4092\n",
            "Epoch 29/50\n",
            "480/480 [==============================] - 2s 3ms/step - loss: 1.6188 - accuracy: 0.8835 - mean_squared_error: 27.7651 - val_loss: 1.6253 - val_accuracy: 0.8761 - val_mean_squared_error: 27.4087\n",
            "Epoch 30/50\n",
            "480/480 [==============================] - 2s 4ms/step - loss: 1.6173 - accuracy: 0.8857 - mean_squared_error: 27.7652 - val_loss: 1.6230 - val_accuracy: 0.8780 - val_mean_squared_error: 27.4086\n",
            "Epoch 31/50\n",
            "480/480 [==============================] - 2s 4ms/step - loss: 1.6178 - accuracy: 0.8846 - mean_squared_error: 27.7652 - val_loss: 1.6227 - val_accuracy: 0.8792 - val_mean_squared_error: 27.4087\n",
            "Epoch 32/50\n",
            "480/480 [==============================] - 2s 4ms/step - loss: 1.6183 - accuracy: 0.8842 - mean_squared_error: 27.7651 - val_loss: 1.6212 - val_accuracy: 0.8792 - val_mean_squared_error: 27.4089\n",
            "Epoch 33/50\n",
            "480/480 [==============================] - 2s 4ms/step - loss: 1.6173 - accuracy: 0.8852 - mean_squared_error: 27.7651 - val_loss: 1.6242 - val_accuracy: 0.8755 - val_mean_squared_error: 27.4096\n",
            "Epoch 34/50\n",
            "480/480 [==============================] - 2s 4ms/step - loss: 1.6174 - accuracy: 0.8859 - mean_squared_error: 27.7651 - val_loss: 1.6212 - val_accuracy: 0.8791 - val_mean_squared_error: 27.4092\n",
            "Epoch 35/50\n",
            "480/480 [==============================] - 2s 4ms/step - loss: 1.6183 - accuracy: 0.8850 - mean_squared_error: 27.7651 - val_loss: 1.6208 - val_accuracy: 0.8809 - val_mean_squared_error: 27.4093\n",
            "Epoch 36/50\n",
            "480/480 [==============================] - 2s 4ms/step - loss: 1.6186 - accuracy: 0.8842 - mean_squared_error: 27.7651 - val_loss: 1.6227 - val_accuracy: 0.8781 - val_mean_squared_error: 27.4087\n",
            "Epoch 37/50\n",
            "480/480 [==============================] - 2s 4ms/step - loss: 1.6177 - accuracy: 0.8857 - mean_squared_error: 27.7651 - val_loss: 1.6244 - val_accuracy: 0.8768 - val_mean_squared_error: 27.4091\n",
            "Epoch 38/50\n",
            "480/480 [==============================] - 2s 3ms/step - loss: 1.6168 - accuracy: 0.8859 - mean_squared_error: 27.7651 - val_loss: 1.6192 - val_accuracy: 0.8813 - val_mean_squared_error: 27.4090\n",
            "Epoch 39/50\n",
            "480/480 [==============================] - 2s 3ms/step - loss: 1.6179 - accuracy: 0.8854 - mean_squared_error: 27.7650 - val_loss: 1.6374 - val_accuracy: 0.8623 - val_mean_squared_error: 27.4092\n",
            "Epoch 40/50\n",
            "480/480 [==============================] - 2s 3ms/step - loss: 1.6177 - accuracy: 0.8856 - mean_squared_error: 27.7651 - val_loss: 1.6199 - val_accuracy: 0.8802 - val_mean_squared_error: 27.4092\n",
            "Epoch 41/50\n",
            "480/480 [==============================] - 2s 4ms/step - loss: 1.6170 - accuracy: 0.8858 - mean_squared_error: 27.7651 - val_loss: 1.6280 - val_accuracy: 0.8727 - val_mean_squared_error: 27.4084\n",
            "Epoch 42/50\n",
            "480/480 [==============================] - 2s 3ms/step - loss: 1.6151 - accuracy: 0.8886 - mean_squared_error: 27.7651 - val_loss: 1.6254 - val_accuracy: 0.8763 - val_mean_squared_error: 27.4088\n",
            "Epoch 43/50\n",
            "480/480 [==============================] - 2s 3ms/step - loss: 1.6163 - accuracy: 0.8867 - mean_squared_error: 27.7652 - val_loss: 1.6207 - val_accuracy: 0.8788 - val_mean_squared_error: 27.4093\n",
            "Epoch 44/50\n",
            "480/480 [==============================] - 2s 4ms/step - loss: 1.6158 - accuracy: 0.8879 - mean_squared_error: 27.7652 - val_loss: 1.6198 - val_accuracy: 0.8817 - val_mean_squared_error: 27.4089\n",
            "Epoch 45/50\n",
            "480/480 [==============================] - 2s 3ms/step - loss: 1.6163 - accuracy: 0.8869 - mean_squared_error: 27.7651 - val_loss: 1.6222 - val_accuracy: 0.8785 - val_mean_squared_error: 27.4091\n",
            "Epoch 46/50\n",
            "480/480 [==============================] - 2s 4ms/step - loss: 1.6153 - accuracy: 0.8882 - mean_squared_error: 27.7652 - val_loss: 1.6211 - val_accuracy: 0.8804 - val_mean_squared_error: 27.4088\n",
            "Epoch 47/50\n",
            "480/480 [==============================] - 2s 4ms/step - loss: 1.6158 - accuracy: 0.8877 - mean_squared_error: 27.7651 - val_loss: 1.6254 - val_accuracy: 0.8733 - val_mean_squared_error: 27.4092\n",
            "Epoch 48/50\n",
            "480/480 [==============================] - 2s 4ms/step - loss: 1.6166 - accuracy: 0.8863 - mean_squared_error: 27.7651 - val_loss: 1.6241 - val_accuracy: 0.8772 - val_mean_squared_error: 27.4092\n",
            "Epoch 49/50\n",
            "480/480 [==============================] - 2s 4ms/step - loss: 1.6146 - accuracy: 0.8892 - mean_squared_error: 27.7650 - val_loss: 1.6188 - val_accuracy: 0.8818 - val_mean_squared_error: 27.4091\n",
            "Epoch 50/50\n",
            "480/480 [==============================] - 2s 3ms/step - loss: 1.6168 - accuracy: 0.8870 - mean_squared_error: 27.7650 - val_loss: 1.6218 - val_accuracy: 0.8820 - val_mean_squared_error: 27.4086\n"
          ],
          "name": "stdout"
        }
      ]
    },
    {
      "cell_type": "code",
      "metadata": {
        "id": "qlJJxJ_O9a88",
        "colab": {
          "base_uri": "https://localhost:8080/",
          "height": 180
        },
        "outputId": "6f3bdaba-9ab8-4736-adfc-25f25324fc73"
      },
      "source": [
        "test_loss, test_acc = model_CrossEntropy.evaluate(test_images,  test_labels, verbose=2)"
      ],
      "execution_count": null,
      "outputs": [
        {
          "output_type": "stream",
          "text": [
            "313/313 - 0s - loss: 1.6318 - accuracy: 0.8713 - mean_squared_error: 27.6930\n"
          ],
          "name": "stdout"
        },
        {
          "output_type": "error",
          "ename": "ValueError",
          "evalue": "ignored",
          "traceback": [
            "\u001b[0;31m---------------------------------------------------------------------------\u001b[0m",
            "\u001b[0;31mValueError\u001b[0m                                Traceback (most recent call last)",
            "\u001b[0;32m<ipython-input-44-a45330fa10dd>\u001b[0m in \u001b[0;36m<module>\u001b[0;34m()\u001b[0m\n\u001b[0;32m----> 1\u001b[0;31m \u001b[0mtest_loss\u001b[0m\u001b[0;34m,\u001b[0m \u001b[0mtest_acc\u001b[0m \u001b[0;34m=\u001b[0m \u001b[0mmodel_CrossEntropy\u001b[0m\u001b[0;34m.\u001b[0m\u001b[0mevaluate\u001b[0m\u001b[0;34m(\u001b[0m\u001b[0mtest_images\u001b[0m\u001b[0;34m,\u001b[0m  \u001b[0mtest_labels\u001b[0m\u001b[0;34m,\u001b[0m \u001b[0mverbose\u001b[0m\u001b[0;34m=\u001b[0m\u001b[0;36m2\u001b[0m\u001b[0;34m)\u001b[0m\u001b[0;34m\u001b[0m\u001b[0;34m\u001b[0m\u001b[0m\n\u001b[0m",
            "\u001b[0;31mValueError\u001b[0m: too many values to unpack (expected 2)"
          ]
        }
      ]
    },
    {
      "cell_type": "code",
      "metadata": {
        "id": "VxsGu9LK4_Ev",
        "colab": {
          "base_uri": "https://localhost:8080/",
          "height": 1000
        },
        "outputId": "d3e41d64-f4e2-45ec-b018-ba488c269a70"
      },
      "source": [
        "history.history"
      ],
      "execution_count": null,
      "outputs": [
        {
          "output_type": "execute_result",
          "data": {
            "text/plain": [
              "{'accuracy': [0.8762500286102295,\n",
              "  0.8790833353996277,\n",
              "  0.8767291903495789,\n",
              "  0.8787291646003723,\n",
              "  0.8795833587646484,\n",
              "  0.8782708048820496,\n",
              "  0.8801249861717224,\n",
              "  0.8798750042915344,\n",
              "  0.8809999823570251,\n",
              "  0.8804374933242798,\n",
              "  0.8788124918937683,\n",
              "  0.8808749914169312,\n",
              "  0.8817916512489319,\n",
              "  0.8808958530426025,\n",
              "  0.8837083578109741,\n",
              "  0.8818958401679993,\n",
              "  0.883145809173584,\n",
              "  0.8823958039283752,\n",
              "  0.882687509059906,\n",
              "  0.8845000267028809,\n",
              "  0.8817916512489319,\n",
              "  0.8845000267028809,\n",
              "  0.8833541870117188,\n",
              "  0.8836249709129333,\n",
              "  0.8828333616256714,\n",
              "  0.8853750228881836,\n",
              "  0.8857083320617676,\n",
              "  0.8851041793823242,\n",
              "  0.8835416436195374,\n",
              "  0.8856874704360962,\n",
              "  0.8845833539962769,\n",
              "  0.8842083215713501,\n",
              "  0.8852291703224182,\n",
              "  0.8858749866485596,\n",
              "  0.8849583268165588,\n",
              "  0.8842083215713501,\n",
              "  0.8857499957084656,\n",
              "  0.8859166502952576,\n",
              "  0.8853750228881836,\n",
              "  0.8856250047683716,\n",
              "  0.8857916593551636,\n",
              "  0.8886458277702332,\n",
              "  0.8866875171661377,\n",
              "  0.8879166841506958,\n",
              "  0.8868958353996277,\n",
              "  0.8882499933242798,\n",
              "  0.887666642665863,\n",
              "  0.8863124847412109,\n",
              "  0.8892291784286499,\n",
              "  0.8869583606719971],\n",
              " 'loss': [1.6231765747070312,\n",
              "  1.6217536926269531,\n",
              "  1.6225701570510864,\n",
              "  1.6217267513275146,\n",
              "  1.6201964616775513,\n",
              "  1.6218788623809814,\n",
              "  1.620879054069519,\n",
              "  1.6211954355239868,\n",
              "  1.6203781366348267,\n",
              "  1.6208629608154297,\n",
              "  1.6220165491104126,\n",
              "  1.620840311050415,\n",
              "  1.6199636459350586,\n",
              "  1.620945692062378,\n",
              "  1.6182887554168701,\n",
              "  1.6192899942398071,\n",
              "  1.618922233581543,\n",
              "  1.619809627532959,\n",
              "  1.6192342042922974,\n",
              "  1.6186425685882568,\n",
              "  1.6199544668197632,\n",
              "  1.6177451610565186,\n",
              "  1.619508147239685,\n",
              "  1.6187560558319092,\n",
              "  1.6194989681243896,\n",
              "  1.6180293560028076,\n",
              "  1.6173291206359863,\n",
              "  1.617641806602478,\n",
              "  1.6187704801559448,\n",
              "  1.6172932386398315,\n",
              "  1.6178460121154785,\n",
              "  1.6183186769485474,\n",
              "  1.6173372268676758,\n",
              "  1.6173979043960571,\n",
              "  1.6183319091796875,\n",
              "  1.618647813796997,\n",
              "  1.6177095174789429,\n",
              "  1.6168146133422852,\n",
              "  1.6178852319717407,\n",
              "  1.6177213191986084,\n",
              "  1.6169798374176025,\n",
              "  1.615073561668396,\n",
              "  1.6162500381469727,\n",
              "  1.615779161453247,\n",
              "  1.616343379020691,\n",
              "  1.615286946296692,\n",
              "  1.6157983541488647,\n",
              "  1.6166476011276245,\n",
              "  1.6145964860916138,\n",
              "  1.616829752922058],\n",
              " 'mean_squared_error': [27.765073776245117,\n",
              "  27.765052795410156,\n",
              "  27.764938354492188,\n",
              "  27.7650203704834,\n",
              "  27.765146255493164,\n",
              "  27.765121459960938,\n",
              "  27.76500701904297,\n",
              "  27.765085220336914,\n",
              "  27.765012741088867,\n",
              "  27.76506996154785,\n",
              "  27.765031814575195,\n",
              "  27.765018463134766,\n",
              "  27.76504135131836,\n",
              "  27.76508140563965,\n",
              "  27.765117645263672,\n",
              "  27.76503562927246,\n",
              "  27.76516342163086,\n",
              "  27.76517677307129,\n",
              "  27.76507568359375,\n",
              "  27.765121459960938,\n",
              "  27.765209197998047,\n",
              "  27.76519012451172,\n",
              "  27.765226364135742,\n",
              "  27.76492691040039,\n",
              "  27.765111923217773,\n",
              "  27.765140533447266,\n",
              "  27.765085220336914,\n",
              "  27.765092849731445,\n",
              "  27.765104293823242,\n",
              "  27.765159606933594,\n",
              "  27.76518440246582,\n",
              "  27.765104293823242,\n",
              "  27.76508331298828,\n",
              "  27.76506233215332,\n",
              "  27.765052795410156,\n",
              "  27.765090942382812,\n",
              "  27.76511001586914,\n",
              "  27.765098571777344,\n",
              "  27.765047073364258,\n",
              "  27.765121459960938,\n",
              "  27.76510238647461,\n",
              "  27.765117645263672,\n",
              "  27.765195846557617,\n",
              "  27.765226364135742,\n",
              "  27.76511001586914,\n",
              "  27.765241622924805,\n",
              "  27.765119552612305,\n",
              "  27.76506805419922,\n",
              "  27.765012741088867,\n",
              "  27.765005111694336],\n",
              " 'val_accuracy': [0.8701666593551636,\n",
              "  0.8724166750907898,\n",
              "  0.8667500019073486,\n",
              "  0.8677499890327454,\n",
              "  0.8701666593551636,\n",
              "  0.8727499842643738,\n",
              "  0.8728333115577698,\n",
              "  0.878333330154419,\n",
              "  0.8773333430290222,\n",
              "  0.8728333115577698,\n",
              "  0.8745833039283752,\n",
              "  0.875083327293396,\n",
              "  0.871833324432373,\n",
              "  0.8721666932106018,\n",
              "  0.875249981880188,\n",
              "  0.8778333067893982,\n",
              "  0.8773333430290222,\n",
              "  0.8755833506584167,\n",
              "  0.8766666650772095,\n",
              "  0.8801666498184204,\n",
              "  0.8777499794960022,\n",
              "  0.8729166388511658,\n",
              "  0.8790833353996277,\n",
              "  0.8756666779518127,\n",
              "  0.8796666860580444,\n",
              "  0.8800833225250244,\n",
              "  0.8784999847412109,\n",
              "  0.8832499980926514,\n",
              "  0.8760833144187927,\n",
              "  0.878000020980835,\n",
              "  0.8792499899864197,\n",
              "  0.8791666626930237,\n",
              "  0.8755000233650208,\n",
              "  0.8790833353996277,\n",
              "  0.8809166550636292,\n",
              "  0.878083348274231,\n",
              "  0.8768333196640015,\n",
              "  0.8813333511352539,\n",
              "  0.862333357334137,\n",
              "  0.8801666498184204,\n",
              "  0.8726666569709778,\n",
              "  0.8762500286102295,\n",
              "  0.8787500262260437,\n",
              "  0.8816666603088379,\n",
              "  0.8784999847412109,\n",
              "  0.8804166913032532,\n",
              "  0.8733333349227905,\n",
              "  0.8771666884422302,\n",
              "  0.8818333148956299,\n",
              "  0.8820000290870667],\n",
              " 'val_loss': [1.6271116733551025,\n",
              "  1.6253635883331299,\n",
              "  1.631865382194519,\n",
              "  1.6305181980133057,\n",
              "  1.6274348497390747,\n",
              "  1.6272399425506592,\n",
              "  1.6263618469238281,\n",
              "  1.622360348701477,\n",
              "  1.621666669845581,\n",
              "  1.6276538372039795,\n",
              "  1.6232341527938843,\n",
              "  1.6268479824066162,\n",
              "  1.6267955303192139,\n",
              "  1.627489447593689,\n",
              "  1.6238199472427368,\n",
              "  1.6234142780303955,\n",
              "  1.6223175525665283,\n",
              "  1.6235156059265137,\n",
              "  1.623157024383545,\n",
              "  1.620374321937561,\n",
              "  1.6219313144683838,\n",
              "  1.627016305923462,\n",
              "  1.6212416887283325,\n",
              "  1.6249847412109375,\n",
              "  1.621535301208496,\n",
              "  1.6213932037353516,\n",
              "  1.6224943399429321,\n",
              "  1.6180347204208374,\n",
              "  1.6253411769866943,\n",
              "  1.6230090856552124,\n",
              "  1.6226810216903687,\n",
              "  1.6211740970611572,\n",
              "  1.6242482662200928,\n",
              "  1.621227741241455,\n",
              "  1.620758295059204,\n",
              "  1.6226528882980347,\n",
              "  1.6244091987609863,\n",
              "  1.6191915273666382,\n",
              "  1.6373919248580933,\n",
              "  1.6198513507843018,\n",
              "  1.6279634237289429,\n",
              "  1.6254286766052246,\n",
              "  1.620731234550476,\n",
              "  1.619829773902893,\n",
              "  1.622178554534912,\n",
              "  1.6210849285125732,\n",
              "  1.6253950595855713,\n",
              "  1.6240746974945068,\n",
              "  1.618809461593628,\n",
              "  1.621780276298523],\n",
              " 'val_mean_squared_error': [27.409255981445312,\n",
              "  27.408828735351562,\n",
              "  27.408702850341797,\n",
              "  27.409006118774414,\n",
              "  27.40920066833496,\n",
              "  27.408939361572266,\n",
              "  27.40918731689453,\n",
              "  27.408918380737305,\n",
              "  27.408939361572266,\n",
              "  27.408735275268555,\n",
              "  27.40880012512207,\n",
              "  27.40825843811035,\n",
              "  27.40953826904297,\n",
              "  27.409543991088867,\n",
              "  27.40890884399414,\n",
              "  27.408823013305664,\n",
              "  27.409099578857422,\n",
              "  27.409177780151367,\n",
              "  27.40863800048828,\n",
              "  27.409074783325195,\n",
              "  27.40882110595703,\n",
              "  27.408824920654297,\n",
              "  27.40900993347168,\n",
              "  27.408830642700195,\n",
              "  27.409122467041016,\n",
              "  27.40892791748047,\n",
              "  27.4088077545166,\n",
              "  27.40923500061035,\n",
              "  27.40874481201172,\n",
              "  27.408639907836914,\n",
              "  27.408706665039062,\n",
              "  27.408931732177734,\n",
              "  27.40959358215332,\n",
              "  27.409217834472656,\n",
              "  27.409324645996094,\n",
              "  27.408729553222656,\n",
              "  27.4090576171875,\n",
              "  27.409034729003906,\n",
              "  27.409244537353516,\n",
              "  27.40917205810547,\n",
              "  27.408397674560547,\n",
              "  27.408845901489258,\n",
              "  27.409273147583008,\n",
              "  27.408931732177734,\n",
              "  27.409130096435547,\n",
              "  27.408838272094727,\n",
              "  27.40920066833496,\n",
              "  27.40922737121582,\n",
              "  27.409135818481445,\n",
              "  27.4085750579834]}"
            ]
          },
          "metadata": {
            "tags": []
          },
          "execution_count": 45
        }
      ]
    },
    {
      "cell_type": "code",
      "metadata": {
        "id": "9xATZd6D5Gi0",
        "colab": {
          "base_uri": "https://localhost:8080/",
          "height": 295
        },
        "outputId": "7aeb5a28-9ca6-45a0-d2aa-b7b91f6ac672"
      },
      "source": [
        "plt.plot(history.history['loss'], label='MAE (training data)')\n",
        "plt.plot(history.history['val_loss'], label='MAE (validation data)')\n",
        "plt.title('Fashion Data Loss Accuracy')\n",
        "plt.ylabel('MAE value')\n",
        "plt.xlabel('No. epoch')\n",
        "plt.legend(loc=\"upper left\")\n",
        "plt.show()"
      ],
      "execution_count": null,
      "outputs": [
        {
          "output_type": "display_data",
          "data": {
            "image/png": "[encoded data removed]",
            "text/plain": [
              "<Figure size 432x288 with 1 Axes>"
            ]
          },
          "metadata": {
            "tags": [],
            "needs_background": "light"
          }
        }
      ]
    },
    {
      "cell_type": "code",
      "metadata": {
        "id": "YfM-y0ZPpT5J",
        "colab": {
          "base_uri": "https://localhost:8080/",
          "height": 295
        },
        "outputId": "c7f11cbe-f2e9-443f-c0a4-8665495cf345"
      },
      "source": [
        "# Plot history: MSE\n",
        "plt.plot(history.history['mean_squared_error'], label='MSE (training data)')\n",
        "plt.plot(history.history['val_mean_squared_error'], label='MSE (validation data)')\n",
        "plt.title('MSE for Chennai Reservoir Levels')\n",
        "plt.ylabel('MSE value')\n",
        "plt.xlabel('No. epoch')\n",
        "plt.legend(loc=\"upper left\")\n",
        "plt.show()"
      ],
      "execution_count": null,
      "outputs": [
        {
          "output_type": "display_data",
          "data": {
            "image/png": "[encoded data removed]",
            "text/plain": [
              "<Figure size 432x288 with 1 Axes>"
            ]
          },
          "metadata": {
            "tags": [],
            "needs_background": "light"
          }
        }
      ]
    },
    {
      "cell_type": "code",
      "metadata": {
        "id": "-0IeEhrz2rCK"
      },
      "source": [
        "model.summary()"
      ],
      "execution_count": null,
      "outputs": []
    },
    {
      "cell_type": "code",
      "metadata": {
        "id": "GEyvPYyzpr0z"
      },
      "source": [
        "probability_model = tf.keras.Sequential([model, \n",
        "                                         tf.keras.layers.Softmax()])"
      ],
      "execution_count": null,
      "outputs": []
    },
    {
      "cell_type": "code",
      "metadata": {
        "id": "U3tzQztCAz9F"
      },
      "source": [
        "predictions = model.predict(test_images)\n",
        "predictions.shape"
      ],
      "execution_count": null,
      "outputs": []
    },
    {
      "cell_type": "code",
      "metadata": {
        "id": "v7EY-xHX66R0"
      },
      "source": [
        "test_labels.shape"
      ],
      "execution_count": null,
      "outputs": []
    },
    {
      "cell_type": "code",
      "metadata": {
        "id": "Hvs4dGZF7IAY"
      },
      "source": [
        "Test = pd.DataFrame(test_images, test_labels)"
      ],
      "execution_count": null,
      "outputs": []
    },
    {
      "cell_type": "code",
      "metadata": {
        "id": "WPJL5b_A7ezR"
      },
      "source": [
        "Test.shape"
      ],
      "execution_count": null,
      "outputs": []
    },
    {
      "cell_type": "code",
      "metadata": {
        "id": "EC3KmmbNA2ML"
      },
      "source": [
        "res = tf.math.confusion_matrix(test_labels,predictions) "
      ],
      "execution_count": null,
      "outputs": []
    },
    {
      "cell_type": "code",
      "metadata": {
        "id": "FZbSDzSkA5sU"
      },
      "source": [
        "np.argmax(predictions[0])"
      ],
      "execution_count": null,
      "outputs": []
    },
    {
      "cell_type": "code",
      "metadata": {
        "id": "wj2yOrB3A-ey"
      },
      "source": [
        "test_labels[0]"
      ],
      "execution_count": null,
      "outputs": []
    },
    {
      "cell_type": "code",
      "metadata": {
        "id": "x8i0851TBAXa"
      },
      "source": [
        ""
      ],
      "execution_count": null,
      "outputs": []
    }
  ]
}